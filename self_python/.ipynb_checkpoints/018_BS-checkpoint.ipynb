{
 "cells": [
  {
   "cell_type": "code",
   "execution_count": 65,
   "metadata": {},
   "outputs": [],
   "source": [
    "import requests\n",
    "from bs4 import BeautifulSoup as bs\n",
    "import lxml\n",
    "import html5lib"
   ]
  },
  {
   "cell_type": "code",
   "execution_count": 68,
   "metadata": {},
   "outputs": [],
   "source": [
    "source = requests.get(\"https://seekingalpha.com/market-news/us-economy\").text\n",
    "# source = requests.get(\"https://news.google.com/topics/CAAqJggKIiBDQkFTRWdvSUwyMHZNRGx6TVdZU0FtVnVHZ0pEUVNnQVAB/sections/CAQiTENCQVNNd29JTDIwdk1EbHpNV1lTQldWdUxVZENHZ0pEUVNJUENBUWFDd29KTDIwdk1HZG1jSE16S2dzU0NTOXRMekJuWm5Cek15Z0EqLggAKioICiIkQ0JBU0ZRb0lMMjB2TURsek1XWVNCV1Z1TFVkQ0dnSkRRU2dBUAFQAQ?hl=en-CA&gl=CA&ceid=CA%3Aen\").text"
   ]
  },
  {
   "cell_type": "code",
   "execution_count": 63,
   "metadata": {},
   "outputs": [],
   "source": [
    "soup = bs(source, \"lxml\")"
   ]
  },
  {
   "cell_type": "code",
   "execution_count": 69,
   "metadata": {
    "scrolled": true
   },
   "outputs": [],
   "source": [
    "# print(soup.prettify())"
   ]
  },
  {
   "cell_type": "code",
   "execution_count": 70,
   "metadata": {},
   "outputs": [
    {
     "data": {
      "text/plain": [
       "[<div class=\"page-title-wrapper\">\n",
       " <div class=\"page-title\">\n",
       " <h1>Please click âI am not a robotâ to continue</h1>\n",
       " </div>\n",
       " </div>, <div class=\"page-title\">\n",
       " <h1>Please click âI am not a robotâ to continue</h1>\n",
       " </div>, <div class=\"content-wrapper\">\n",
       " <div class=\"content\">\n",
       " <div id=\"px-captcha\"></div>\n",
       " <p></p>\n",
       " <p>\n",
       "         To ensure this doesnât happen in the future, please enable Javascript and cookies in your browser.<br/>\n",
       "         Is this happening to you frequently? Please <a href=\"https://seekingalpha.userecho.com?source=captcha\">report it on our feedback forum</a>.\n",
       "       </p>\n",
       " <p>\n",
       "         If you have an ad-blocker enabled you may be blocked from proceeding. Please disable your ad-blocker and refresh.\n",
       "       </p>\n",
       " <p>Reference ID: <span id=\"refid\"></span></p>\n",
       " </div>\n",
       " </div>, <div class=\"content\">\n",
       " <div id=\"px-captcha\"></div>\n",
       " <p></p>\n",
       " <p>\n",
       "         To ensure this doesnât happen in the future, please enable Javascript and cookies in your browser.<br/>\n",
       "         Is this happening to you frequently? Please <a href=\"https://seekingalpha.userecho.com?source=captcha\">report it on our feedback forum</a>.\n",
       "       </p>\n",
       " <p>\n",
       "         If you have an ad-blocker enabled you may be blocked from proceeding. Please disable your ad-blocker and refresh.\n",
       "       </p>\n",
       " <p>Reference ID: <span id=\"refid\"></span></p>\n",
       " </div>, <div id=\"px-captcha\"></div>]"
      ]
     },
     "execution_count": 70,
     "metadata": {},
     "output_type": "execute_result"
    }
   ],
   "source": [
    "# article = soup.find(\"div\", {\"id\": \"main_content\"})\n",
    "articles = soup.find_all(\"div\")\n",
    "articles\n",
    "# article1 = articles[0]\n",
    "# print(articles.prettify())"
   ]
  },
  {
   "cell_type": "code",
   "execution_count": 30,
   "metadata": {},
   "outputs": [
    {
     "data": {
      "text/plain": [
       "'Canada Is Set For A Big Drop In Home Prices, According To New Reports'"
      ]
     },
     "execution_count": 30,
     "metadata": {},
     "output_type": "execute_result"
    }
   ],
   "source": [
    "article1.a.text"
   ]
  },
  {
   "cell_type": "markdown",
   "metadata": {},
   "source": [
    "---"
   ]
  },
  {
   "cell_type": "code",
   "execution_count": 41,
   "metadata": {},
   "outputs": [],
   "source": [
    "urls = [\"https://news.google.com/topics/CAAqJggKIiBDQkFTRWdvSUwyMHZNRGx6TVdZU0FtVnVHZ0pEUVNnQVAB/sections/CAQiTENCQVNNd29JTDIwdk1EbHpNV1lTQldWdUxVZENHZ0pEUVNJUENBUWFDd29KTDIwdk1HZG1jSE16S2dzU0NTOXRMekJuWm5Cek15Z0EqLggAKioICiIkQ0JBU0ZRb0lMMjB2TURsek1XWVNCV1Z1TFVkQ0dnSkRRU2dBUAFQAQ?hl=en-CA&gl=CA&ceid=CA%3Aen\",\n",
    "        \"https://news.google.com/topics/CAAqJggKIiBDQkFTRWdvSUwyMHZNRGx6TVdZU0FtVnVHZ0pEUVNnQVAB/sections/CAQiYENCQVNRZ29JTDIwdk1EbHpNV1lTQldWdUxVZENHZ0pEUVNJUENBUWFDd29KTDIwdk1EbDVOSEJ0S2hvS0dBb1VUVUZTUzBWVVUxOVRSVU5VU1U5T1gwNUJUVVVnQVNnQSouCAAqKggKIiRDQkFTRlFvSUwyMHZNRGx6TVdZU0JXVnVMVWRDR2dKRFFTZ0FQAVAB?hl=en-CA&gl=CA&ceid=CA%3Aen\"]"
   ]
  },
  {
   "cell_type": "code",
   "execution_count": 44,
   "metadata": {},
   "outputs": [],
   "source": [
    "def get_news_headers(urls):\n",
    "    header_list = []\n",
    "    for url in urls:\n",
    "        source = requests.get(url).text\n",
    "        soup = bs(source, \"lxml\")\n",
    "        headers = soup.find_all(\"h3\")\n",
    "        for header in headers:\n",
    "            header_list.append(header.a.text)\n",
    "    return header_list"
   ]
  },
  {
   "cell_type": "code",
   "execution_count": 45,
   "metadata": {},
   "outputs": [
    {
     "name": "stdout",
     "output_type": "stream",
     "text": [
      "CPU times: user 582 ms, sys: 40.3 ms, total: 622 ms\n",
      "Wall time: 2.15 s\n"
     ]
    }
   ],
   "source": [
    "%%time\n",
    "header_list = get_news_headers(urls)"
   ]
  },
  {
   "cell_type": "code",
   "execution_count": 47,
   "metadata": {
    "scrolled": true
   },
   "outputs": [
    {
     "data": {
      "text/plain": [
       "140"
      ]
     },
     "execution_count": 47,
     "metadata": {},
     "output_type": "execute_result"
    }
   ],
   "source": [
    "len(header_list)"
   ]
  },
  {
   "cell_type": "code",
   "execution_count": 48,
   "metadata": {},
   "outputs": [
    {
     "data": {
      "text/plain": [
       "['Canada Is Set For A Big Drop In Home Prices, According To New Reports',\n",
       " 'U.S. central bank cuts interest rate for 1st time since 2008',\n",
       " \"Toronto Raptors helped spike Canada's economy in May, StatsCan says\",\n",
       " 'Peter Navarro: Tariffs are raising revenues',\n",
       " \"Trump's former top adviser: tariffs backfiring on US\"]"
      ]
     },
     "execution_count": 48,
     "metadata": {},
     "output_type": "execute_result"
    }
   ],
   "source": [
    "header_list[:5]"
   ]
  },
  {
   "cell_type": "code",
   "execution_count": 49,
   "metadata": {},
   "outputs": [
    {
     "data": {
      "text/plain": [
       "['Future Entrepreneurs Need to Focus on Markets, Trends And Problems, Not Ideas.',\n",
       " 'Markets Right Now: Stocks drop on economic worries',\n",
       " 'Traders fear ‘avalanche’ of Pemex bond sales',\n",
       " 'Market Sentiment Muted Ahead Of Powell Speech, G20 Summit',\n",
       " 'U.S. oil prices pull back after 3-session climb on the back of Iran tensions']"
      ]
     },
     "execution_count": 49,
     "metadata": {},
     "output_type": "execute_result"
    }
   ],
   "source": [
    "header_list[-5:]"
   ]
  },
  {
   "cell_type": "code",
   "execution_count": null,
   "metadata": {},
   "outputs": [],
   "source": []
  }
 ],
 "metadata": {
  "kernelspec": {
   "display_name": "Python 3",
   "language": "python",
   "name": "python3"
  },
  "language_info": {
   "codemirror_mode": {
    "name": "ipython",
    "version": 3
   },
   "file_extension": ".py",
   "mimetype": "text/x-python",
   "name": "python",
   "nbconvert_exporter": "python",
   "pygments_lexer": "ipython3",
   "version": "3.6.8"
  }
 },
 "nbformat": 4,
 "nbformat_minor": 2
}
